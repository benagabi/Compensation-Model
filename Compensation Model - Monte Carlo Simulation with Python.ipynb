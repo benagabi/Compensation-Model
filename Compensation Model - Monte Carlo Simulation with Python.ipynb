{
 "cells": [
  {
   "cell_type": "code",
   "execution_count": 1,
   "metadata": {},
   "outputs": [],
   "source": [
    "#Import libraries\n",
    "import numpy as np\n",
    "import pandas as pd\n",
    "import seaborn as sns\n",
    "import matplotlib.pyplot as plt\n",
    "sns.set_style('whitegrid')\n",
    "\n",
    "#Load data and make a copy\n",
    "df = pd.read_excel(\"Comp Model 2019 for Optimization.xlsx\", sheet_name = 'percent_wksht', skiprows=2)\n",
    "dc = df.copy()\n",
    "\n",
    "#drop negative rows values in 'Net Sale $' column\n",
    "dc = dc.query(\"~(Net_Sale_Amount < 0)\")\n",
    "#dc['ID'] = dc['Match ID'].str.split('-').str[1]\n",
    "\n",
    "#Rename columns needed for data munging\n",
    "df_kp = dc.copy()\n",
    "df_grp = df_kp.rename(columns={'Current Commission': 'Current_Commission', 'Net Sales': 'Net_Sales', 'Close Rate': \n",
    "                                  'Close_Rate', 'Handle Time': 'Handle_Time', 'Net_Sale_Amount': 'Net_Sale_amt', \n",
    "                                  'Adj Net Sale': 'Adj_Net_Sale', 'Close Rate Score': 'Close_Rate_Score', \n",
    "                                  'Payout Rate': 'Payout_Rate', 'Current Commission per Hour': 'Current_Comm_Per_Hour'})\n",
    "\n",
    "\n",
    "group = df_grp.groupby(['ID','Market','Gate'])\n",
    "grp = group.aggregate({'Current_Commission':'sum'})\n",
    "grp['Current Comm Per Hour'] = df_grp.groupby(['ID','Market','Gate']).Current_Comm_Per_Hour.mean()\n",
    "grp['Net Sales'] = df_grp.groupby(['ID','Market','Gate']).Net_Sales.sum()\n",
    "grp['Close Rate'] = df_grp.groupby(['ID','Market','Gate']).Close_Rate.mean()\n",
    "grp['Handle Time'] = df_grp.groupby(['ID','Market','Gate']).Handle_Time.sum()\n",
    "grp['Net Sales Amount'] = df_grp.groupby(['ID','Market','Gate']).Net_Sale_amt.sum()\n",
    "grp['Adj Net Sale'] = df_grp.groupby(['ID','Market','Gate']).Adj_Net_Sale.sum()\n",
    "grp['Close Rate Score'] = df_grp.groupby(['ID','Market','Gate']).Close_Rate_Score.mean()\n",
    "grp['Payout Rate'] = df_grp.groupby(['ID','Market','Gate']).Payout_Rate.mean()\n",
    "grp.reset_index(drop=False,inplace=True)\n",
    "\n",
    "grp['Commission_Rate'] = round(grp['Current_Commission']/grp['Net Sales Amount'],2).replace(np.nan, 0)\n",
    "grp = grp.round({'Current_Commission': 2, 'Current Comm Per Hour': 2, 'Close Rate': 2, \n",
    "                 'Net Sales': 2,'Net Sales Amount': 2})\n",
    "df_needed = grp[['ID','Market','Gate','Handle Time','Current_Commission','Current Comm Per Hour',\n",
    "                 'Commission_Rate','Close Rate','Net Sales','Net Sales Amount']]"
   ]
  },
  {
   "cell_type": "code",
   "execution_count": 2,
   "metadata": {},
   "outputs": [
    {
     "data": {
      "text/html": [
       "<div>\n",
       "<style scoped>\n",
       "    .dataframe tbody tr th:only-of-type {\n",
       "        vertical-align: middle;\n",
       "    }\n",
       "\n",
       "    .dataframe tbody tr th {\n",
       "        vertical-align: top;\n",
       "    }\n",
       "\n",
       "    .dataframe thead th {\n",
       "        text-align: right;\n",
       "    }\n",
       "</style>\n",
       "<table border=\"1\" class=\"dataframe\">\n",
       "  <thead>\n",
       "    <tr style=\"text-align: right;\">\n",
       "      <th></th>\n",
       "      <th>ID</th>\n",
       "      <th>Market</th>\n",
       "      <th>Gate</th>\n",
       "      <th>Handle Time</th>\n",
       "      <th>Current_Commission</th>\n",
       "      <th>Current Comm Per Hour</th>\n",
       "      <th>Commission_Rate</th>\n",
       "      <th>Close Rate</th>\n",
       "      <th>Net Sales</th>\n",
       "      <th>Net Sales Amount</th>\n",
       "    </tr>\n",
       "  </thead>\n",
       "  <tbody>\n",
       "    <tr>\n",
       "      <td>0</td>\n",
       "      <td>1003781460</td>\n",
       "      <td>WP</td>\n",
       "      <td>Dev</td>\n",
       "      <td>0.00</td>\n",
       "      <td>0.00</td>\n",
       "      <td>0.00</td>\n",
       "      <td>0.00</td>\n",
       "      <td>0.00</td>\n",
       "      <td>0.00</td>\n",
       "      <td>0.00</td>\n",
       "    </tr>\n",
       "    <tr>\n",
       "      <td>1</td>\n",
       "      <td>1003781460</td>\n",
       "      <td>WP</td>\n",
       "      <td>DevSP</td>\n",
       "      <td>142.46</td>\n",
       "      <td>730.53</td>\n",
       "      <td>4.13</td>\n",
       "      <td>0.01</td>\n",
       "      <td>0.11</td>\n",
       "      <td>309.01</td>\n",
       "      <td>77878.21</td>\n",
       "    </tr>\n",
       "    <tr>\n",
       "      <td>2</td>\n",
       "      <td>1003781460</td>\n",
       "      <td>WP</td>\n",
       "      <td>Prem</td>\n",
       "      <td>0.00</td>\n",
       "      <td>0.00</td>\n",
       "      <td>0.00</td>\n",
       "      <td>0.00</td>\n",
       "      <td>0.00</td>\n",
       "      <td>0.00</td>\n",
       "      <td>0.00</td>\n",
       "    </tr>\n",
       "  </tbody>\n",
       "</table>\n",
       "</div>"
      ],
      "text/plain": [
       "           ID Market   Gate  Handle Time  Current_Commission  \\\n",
       "0  1003781460     WP    Dev         0.00                0.00   \n",
       "1  1003781460     WP  DevSP       142.46              730.53   \n",
       "2  1003781460     WP   Prem         0.00                0.00   \n",
       "\n",
       "   Current Comm Per Hour  Commission_Rate  Close Rate  Net Sales  \\\n",
       "0                   0.00             0.00        0.00       0.00   \n",
       "1                   4.13             0.01        0.11     309.01   \n",
       "2                   0.00             0.00        0.00       0.00   \n",
       "\n",
       "   Net Sales Amount  \n",
       "0              0.00  \n",
       "1          77878.21  \n",
       "2              0.00  "
      ]
     },
     "execution_count": 2,
     "metadata": {},
     "output_type": "execute_result"
    }
   ],
   "source": [
    "df_needed.head(3)"
   ]
  },
  {
   "cell_type": "code",
   "execution_count": 3,
   "metadata": {},
   "outputs": [
    {
     "data": {
      "text/plain": [
       "0"
      ]
     },
     "execution_count": 3,
     "metadata": {},
     "output_type": "execute_result"
    }
   ],
   "source": [
    "df_needed['ID'].isnull().sum()"
   ]
  },
  {
   "cell_type": "code",
   "execution_count": 4,
   "metadata": {},
   "outputs": [
    {
     "data": {
      "text/plain": [
       "<matplotlib.axes._subplots.AxesSubplot at 0x162f9e88>"
      ]
     },
     "execution_count": 4,
     "metadata": {},
     "output_type": "execute_result"
    },
    {
     "data": {
      "image/png": "[encoded data removed]",
      "text/plain": [
       "<Figure size 432x288 with 1 Axes>"
      ]
     },
     "metadata": {
      "needs_background": "light"
     },
     "output_type": "display_data"
    }
   ],
   "source": [
    "df_needed['Net Sales'].plot(kind='hist', title='Net Sales Unit Distribution')"
   ]
  },
  {
   "cell_type": "code",
   "execution_count": 5,
   "metadata": {},
   "outputs": [
    {
     "data": {
      "text/plain": [
       "West Hills Inbound               1095\n",
       "West Hills (English) Outbound     772\n",
       "WP                                653\n",
       "Spokane (English) Outbound        425\n",
       "Miami (English) Outbound          408\n",
       "Spokane PARS                      318\n",
       "Miami (Spanish) Outbound           48\n",
       "West Hills (Spanish) Outbound      18\n",
       "Spokane (Spanish) Outbound          6\n",
       "Name: Market, dtype: int64"
      ]
     },
     "execution_count": 5,
     "metadata": {},
     "output_type": "execute_result"
    }
   ],
   "source": [
    "df_needed.Market.value_counts()"
   ]
  },
  {
   "cell_type": "code",
   "execution_count": 6,
   "metadata": {},
   "outputs": [],
   "source": [
    "#Split into different Market Groups\n",
    "\n",
    "West_Hills = (df_needed[(df_needed['Market'] == 'West Hills Inbound') \\\n",
    "                        | (df_needed['Market'] == 'West Hills (English) Outbound' ) \n",
    "                        | (df_needed['Market'] == 'West Hills (Spanish) Outbound' )])\n",
    "\n",
    "Spokane = df_needed[df_needed[\"Market\"].isin(['Spokane (English) Outbound','Spokane (Spanish) Outbound ','Spokane PARS'])]\n",
    "\n",
    "Miami = df_needed[df_needed[\"Market\"].isin(['Miami (English) Outbound','Miami (Spanish) Outbound'])]\n",
    "\n",
    "WP = df_needed[df_needed[\"Market\"].isin(['WP'])]"
   ]
  },
  {
   "cell_type": "code",
   "execution_count": 9,
   "metadata": {},
   "outputs": [
    {
     "data": {
      "text/plain": [
       "<matplotlib.axes._subplots.AxesSubplot at 0x571c288>"
      ]
     },
     "execution_count": 9,
     "metadata": {},
     "output_type": "execute_result"
    },
    {
     "data": {
      "image/png": "[encoded data removed]",
      "text/plain": [
       "<Figure size 432x288 with 1 Axes>"
      ]
     },
     "metadata": {
      "needs_background": "light"
     },
     "output_type": "display_data"
    }
   ],
   "source": [
    "plt.ticklabel_format(style='plain', axis='x')\n",
    "West_Hills['Net Sales Amount'].plot(kind='hist', title='Net Sales Amount - West Hills')"
   ]
  },
  {
   "cell_type": "code",
   "execution_count": 10,
   "metadata": {},
   "outputs": [
    {
     "data": {
      "text/plain": [
       "<matplotlib.axes._subplots.AxesSubplot at 0xbb28348>"
      ]
     },
     "execution_count": 10,
     "metadata": {},
     "output_type": "execute_result"
    },
    {
     "data": {
      "image/png": "[encoded data removed]",
      "text/plain": [
       "<Figure size 432x288 with 1 Axes>"
      ]
     },
     "metadata": {
      "needs_background": "light"
     },
     "output_type": "display_data"
    }
   ],
   "source": [
    "noZero_West_Hills = West_Hills.rename(columns={'Net Sales Amount': 'Net_Sales_Amount'})\n",
    "noZero_West_Hills = noZero_West_Hills.query(\"~(Net_Sales_Amount <= 0)\")\n",
    "noZero_West_Hills['Net_Sales_Amount'].plot(kind='hist', title='Net Sales Amount Distribution')"
   ]
  },
  {
   "cell_type": "code",
   "execution_count": 11,
   "metadata": {},
   "outputs": [
    {
     "data": {
      "text/plain": [
       "<matplotlib.axes._subplots.AxesSubplot at 0x57af808>"
      ]
     },
     "execution_count": 11,
     "metadata": {},
     "output_type": "execute_result"
    },
    {
     "data": {
      "image/png": "[encoded data removed]",
      "text/plain": [
       "<Figure size 432x288 with 1 Axes>"
      ]
     },
     "metadata": {
      "needs_background": "light"
     },
     "output_type": "display_data"
    }
   ],
   "source": [
    "noZero_West_Hills['Commission_Rate'].plot(kind='hist', title='Current Commission Rate Distribution')"
   ]
  },
  {
   "cell_type": "code",
   "execution_count": 12,
   "metadata": {},
   "outputs": [
    {
     "data": {
      "text/plain": [
       "count    511.000000\n",
       "mean       0.161977\n",
       "std        0.160348\n",
       "min        0.000000\n",
       "0%         0.000000\n",
       "5%         0.010000\n",
       "25%        0.040000\n",
       "50%        0.100000\n",
       "75%        0.245000\n",
       "100%       0.670000\n",
       "max        0.670000\n",
       "Name: Close Rate, dtype: float64"
      ]
     },
     "execution_count": 12,
     "metadata": {},
     "output_type": "execute_result"
    }
   ],
   "source": [
    "df_noNegative = noZero_West_Hills[(noZero_West_Hills['Close Rate'] >= 0)]\n",
    "df_noNegative['Close Rate'].describe(percentiles=[0.00, 0.05,.25, .5, .75, 1.00])"
   ]
  },
  {
   "cell_type": "code",
   "execution_count": 13,
   "metadata": {},
   "outputs": [
    {
     "data": {
      "text/plain": [
       "203"
      ]
     },
     "execution_count": 13,
     "metadata": {},
     "output_type": "execute_result"
    }
   ],
   "source": [
    "df_noNegative.ID.nunique()"
   ]
  },
  {
   "cell_type": "markdown",
   "metadata": {},
   "source": [
    "# Net Sales Amount Prediction Analysis - West_Hills"
   ]
  },
  {
   "cell_type": "code",
   "execution_count": 12,
   "metadata": {},
   "outputs": [],
   "source": [
    "df_noNegative.to_excel('WH_For_Prediction.xlsx', index=False)"
   ]
  },
  {
   "cell_type": "code",
   "execution_count": 14,
   "metadata": {},
   "outputs": [
    {
     "name": "stdout",
     "output_type": "stream",
     "text": [
      "Training Data Count: 408\n",
      "Testing Data Count: 103\n"
     ]
    }
   ],
   "source": [
    "import math\n",
    "import scipy\n",
    "import scipy\n",
    "import warnings\n",
    "import seaborn as sns\n",
    "from tkinter import font\n",
    "import scipy.stats as stats\n",
    "import statsmodels.api as sm\n",
    "import matplotlib.pyplot as plt\n",
    "from statsmodels.compat import lzip\n",
    "import statsmodels.formula.api as smf\n",
    "from sklearn.preprocessing import scale\n",
    "from scipy.stats import norm, skew,kurtosis\n",
    "from sklearn.preprocessing import LabelEncoder\n",
    "from sklearn.tree import DecisionTreeRegressor\n",
    "from sklearn.metrics import mean_squared_error\n",
    "from sklearn.metrics import mean_absolute_error\n",
    "from sklearn.linear_model import LinearRegression\n",
    "from sklearn.model_selection import train_test_split\n",
    "from statsmodels.tools.eval_measures import mse, rmse\n",
    "from sklearn.metrics import explained_variance_score,r2_score\n",
    "from sklearn.ensemble import RandomForestRegressor, GradientBoostingRegressor, ExtraTreesRegressor, AdaBoostRegressor\n",
    "pd.options.display.float_format = '{:.2f}'.format\n",
    "\n",
    "warnings.filterwarnings('ignore')\n",
    "df_wh = pd.read_excel(\"WH_For_Prediction.xlsx\")\n",
    "\n",
    "dz = df_wh.copy()\n",
    "df = dz[['Handle Time','Current_Commission','Current Comm Per Hour','Commission_Rate',\n",
    "         'Close Rate','Net Sales','Net_Sales_Amount']]\n",
    "\n",
    "Y=df[\"Net_Sales_Amount\"]\n",
    "X=df[['Handle Time','Commission_Rate','Current_Commission','Current Comm Per Hour','Close Rate','Net Sales']]\n",
    "\n",
    "X_train, X_test, y_train, y_test = train_test_split(X, Y, test_size = 0.2, random_state = 465) \n",
    "print('Training Data Count: {}'.format(X_train.shape[0]))\n",
    "print('Testing Data Count: {}'.format(X_test.shape[0]))"
   ]
  },
  {
   "cell_type": "code",
   "execution_count": 15,
   "metadata": {},
   "outputs": [
    {
     "data": {
      "text/html": [
       "<table class=\"simpletable\">\n",
       "<caption>OLS Regression Results</caption>\n",
       "<tr>\n",
       "  <th>Dep. Variable:</th>    <td>Net_Sales_Amount</td> <th>  R-squared:         </th> <td>   0.935</td> \n",
       "</tr>\n",
       "<tr>\n",
       "  <th>Model:</th>                   <td>OLS</td>       <th>  Adj. R-squared:    </th> <td>   0.934</td> \n",
       "</tr>\n",
       "<tr>\n",
       "  <th>Method:</th>             <td>Least Squares</td>  <th>  F-statistic:       </th> <td>   957.9</td> \n",
       "</tr>\n",
       "<tr>\n",
       "  <th>Date:</th>             <td>Mon, 20 Jul 2020</td> <th>  Prob (F-statistic):</th> <td>3.45e-234</td>\n",
       "</tr>\n",
       "<tr>\n",
       "  <th>Time:</th>                 <td>08:49:18</td>     <th>  Log-Likelihood:    </th> <td> -5246.4</td> \n",
       "</tr>\n",
       "<tr>\n",
       "  <th>No. Observations:</th>      <td>   408</td>      <th>  AIC:               </th> <td>1.051e+04</td>\n",
       "</tr>\n",
       "<tr>\n",
       "  <th>Df Residuals:</th>          <td>   401</td>      <th>  BIC:               </th> <td>1.053e+04</td>\n",
       "</tr>\n",
       "<tr>\n",
       "  <th>Df Model:</th>              <td>     6</td>      <th>                     </th>     <td> </td>    \n",
       "</tr>\n",
       "<tr>\n",
       "  <th>Covariance Type:</th>      <td>nonrobust</td>    <th>                     </th>     <td> </td>    \n",
       "</tr>\n",
       "</table>\n",
       "<table class=\"simpletable\">\n",
       "<tr>\n",
       "            <td></td>               <th>coef</th>     <th>std err</th>      <th>t</th>      <th>P>|t|</th>  <th>[0.025</th>    <th>0.975]</th>  \n",
       "</tr>\n",
       "<tr>\n",
       "  <th>const</th>                 <td>-6258.3297</td> <td>    1e+04</td> <td>   -0.624</td> <td> 0.533</td> <td> -2.6e+04</td> <td> 1.35e+04</td>\n",
       "</tr>\n",
       "<tr>\n",
       "  <th>Handle Time</th>           <td>  -29.0449</td> <td>   58.987</td> <td>   -0.492</td> <td> 0.623</td> <td> -145.007</td> <td>   86.917</td>\n",
       "</tr>\n",
       "<tr>\n",
       "  <th>Commission_Rate</th>       <td>-4.276e+05</td> <td> 3.22e+05</td> <td>   -1.326</td> <td> 0.186</td> <td>-1.06e+06</td> <td> 2.06e+05</td>\n",
       "</tr>\n",
       "<tr>\n",
       "  <th>Current_Commission</th>    <td>   34.2694</td> <td>    3.152</td> <td>   10.872</td> <td> 0.000</td> <td>   28.073</td> <td>   40.466</td>\n",
       "</tr>\n",
       "<tr>\n",
       "  <th>Current Comm Per Hour</th> <td> -343.0630</td> <td>  638.756</td> <td>   -0.537</td> <td> 0.592</td> <td>-1598.792</td> <td>  912.666</td>\n",
       "</tr>\n",
       "<tr>\n",
       "  <th>Close Rate</th>            <td>  1.92e+05</td> <td> 5.65e+04</td> <td>    3.398</td> <td> 0.001</td> <td> 8.09e+04</td> <td> 3.03e+05</td>\n",
       "</tr>\n",
       "<tr>\n",
       "  <th>Net Sales</th>             <td>  225.2256</td> <td>   29.503</td> <td>    7.634</td> <td> 0.000</td> <td>  167.225</td> <td>  283.226</td>\n",
       "</tr>\n",
       "</table>\n",
       "<table class=\"simpletable\">\n",
       "<tr>\n",
       "  <th>Omnibus:</th>       <td>96.298</td> <th>  Durbin-Watson:     </th> <td>   2.086</td>\n",
       "</tr>\n",
       "<tr>\n",
       "  <th>Prob(Omnibus):</th> <td> 0.000</td> <th>  Jarque-Bera (JB):  </th> <td>2879.725</td>\n",
       "</tr>\n",
       "<tr>\n",
       "  <th>Skew:</th>          <td>-0.028</td> <th>  Prob(JB):          </th> <td>    0.00</td>\n",
       "</tr>\n",
       "<tr>\n",
       "  <th>Kurtosis:</th>      <td>16.015</td> <th>  Cond. No.          </th> <td>4.05e+05</td>\n",
       "</tr>\n",
       "</table><br/><br/>Warnings:<br/>[1] Standard Errors assume that the covariance matrix of the errors is correctly specified.<br/>[2] The condition number is large, 4.05e+05. This might indicate that there are<br/>strong multicollinearity or other numerical problems."
      ],
      "text/plain": [
       "<class 'statsmodels.iolib.summary.Summary'>\n",
       "\"\"\"\n",
       "                            OLS Regression Results                            \n",
       "==============================================================================\n",
       "Dep. Variable:       Net_Sales_Amount   R-squared:                       0.935\n",
       "Model:                            OLS   Adj. R-squared:                  0.934\n",
       "Method:                 Least Squares   F-statistic:                     957.9\n",
       "Date:                Mon, 20 Jul 2020   Prob (F-statistic):          3.45e-234\n",
       "Time:                        08:49:18   Log-Likelihood:                -5246.4\n",
       "No. Observations:                 408   AIC:                         1.051e+04\n",
       "Df Residuals:                     401   BIC:                         1.053e+04\n",
       "Df Model:                           6                                         \n",
       "Covariance Type:            nonrobust                                         \n",
       "=========================================================================================\n",
       "                            coef    std err          t      P>|t|      [0.025      0.975]\n",
       "-----------------------------------------------------------------------------------------\n",
       "const                 -6258.3297      1e+04     -0.624      0.533    -2.6e+04    1.35e+04\n",
       "Handle Time             -29.0449     58.987     -0.492      0.623    -145.007      86.917\n",
       "Commission_Rate       -4.276e+05   3.22e+05     -1.326      0.186   -1.06e+06    2.06e+05\n",
       "Current_Commission       34.2694      3.152     10.872      0.000      28.073      40.466\n",
       "Current Comm Per Hour  -343.0630    638.756     -0.537      0.592   -1598.792     912.666\n",
       "Close Rate              1.92e+05   5.65e+04      3.398      0.001    8.09e+04    3.03e+05\n",
       "Net Sales               225.2256     29.503      7.634      0.000     167.225     283.226\n",
       "==============================================================================\n",
       "Omnibus:                       96.298   Durbin-Watson:                   2.086\n",
       "Prob(Omnibus):                  0.000   Jarque-Bera (JB):             2879.725\n",
       "Skew:                          -0.028   Prob(JB):                         0.00\n",
       "Kurtosis:                      16.015   Cond. No.                     4.05e+05\n",
       "==============================================================================\n",
       "\n",
       "Warnings:\n",
       "[1] Standard Errors assume that the covariance matrix of the errors is correctly specified.\n",
       "[2] The condition number is large, 4.05e+05. This might indicate that there are\n",
       "strong multicollinearity or other numerical problems.\n",
       "\"\"\""
      ]
     },
     "execution_count": 15,
     "metadata": {},
     "output_type": "execute_result"
    }
   ],
   "source": [
    "X_train = sm.add_constant(X_train)\n",
    "results = sm.OLS(y_train, X_train).fit()\n",
    "results.summary()"
   ]
  },
  {
   "cell_type": "code",
   "execution_count": 16,
   "metadata": {},
   "outputs": [
    {
     "data": {
      "text/html": [
       "<table class=\"simpletable\">\n",
       "<caption>OLS Regression Results</caption>\n",
       "<tr>\n",
       "  <th>Dep. Variable:</th>    <td>Net_Sales_Amount</td> <th>  R-squared:         </th> <td>   0.935</td> \n",
       "</tr>\n",
       "<tr>\n",
       "  <th>Model:</th>                   <td>OLS</td>       <th>  Adj. R-squared:    </th> <td>   0.934</td> \n",
       "</tr>\n",
       "<tr>\n",
       "  <th>Method:</th>             <td>Least Squares</td>  <th>  F-statistic:       </th> <td>   1442.</td> \n",
       "</tr>\n",
       "<tr>\n",
       "  <th>Date:</th>             <td>Mon, 20 Jul 2020</td> <th>  Prob (F-statistic):</th> <td>3.23e-237</td>\n",
       "</tr>\n",
       "<tr>\n",
       "  <th>Time:</th>                 <td>08:49:57</td>     <th>  Log-Likelihood:    </th> <td> -5246.7</td> \n",
       "</tr>\n",
       "<tr>\n",
       "  <th>No. Observations:</th>      <td>   408</td>      <th>  AIC:               </th> <td>1.050e+04</td>\n",
       "</tr>\n",
       "<tr>\n",
       "  <th>Df Residuals:</th>          <td>   403</td>      <th>  BIC:               </th> <td>1.052e+04</td>\n",
       "</tr>\n",
       "<tr>\n",
       "  <th>Df Model:</th>              <td>     4</td>      <th>                     </th>     <td> </td>    \n",
       "</tr>\n",
       "<tr>\n",
       "  <th>Covariance Type:</th>      <td>nonrobust</td>    <th>                     </th>     <td> </td>    \n",
       "</tr>\n",
       "</table>\n",
       "<table class=\"simpletable\">\n",
       "<tr>\n",
       "           <td></td>             <th>coef</th>     <th>std err</th>      <th>t</th>      <th>P>|t|</th>  <th>[0.025</th>    <th>0.975]</th>  \n",
       "</tr>\n",
       "<tr>\n",
       "  <th>const</th>              <td>-7502.7208</td> <td> 8558.792</td> <td>   -0.877</td> <td> 0.381</td> <td>-2.43e+04</td> <td> 9322.734</td>\n",
       "</tr>\n",
       "<tr>\n",
       "  <th>Commission_Rate</th>    <td>-4.693e+05</td> <td> 3.01e+05</td> <td>   -1.559</td> <td> 0.120</td> <td>-1.06e+06</td> <td> 1.23e+05</td>\n",
       "</tr>\n",
       "<tr>\n",
       "  <th>Current_Commission</th> <td>   34.1814</td> <td>    2.490</td> <td>   13.729</td> <td> 0.000</td> <td>   29.287</td> <td>   39.076</td>\n",
       "</tr>\n",
       "<tr>\n",
       "  <th>Close Rate</th>         <td> 1.765e+05</td> <td>  3.6e+04</td> <td>    4.909</td> <td> 0.000</td> <td> 1.06e+05</td> <td> 2.47e+05</td>\n",
       "</tr>\n",
       "<tr>\n",
       "  <th>Net Sales</th>          <td>  218.6314</td> <td>   18.623</td> <td>   11.740</td> <td> 0.000</td> <td>  182.021</td> <td>  255.242</td>\n",
       "</tr>\n",
       "</table>\n",
       "<table class=\"simpletable\">\n",
       "<tr>\n",
       "  <th>Omnibus:</th>       <td>95.533</td> <th>  Durbin-Watson:     </th> <td>   2.092</td>\n",
       "</tr>\n",
       "<tr>\n",
       "  <th>Prob(Omnibus):</th> <td> 0.000</td> <th>  Jarque-Bera (JB):  </th> <td>2771.741</td>\n",
       "</tr>\n",
       "<tr>\n",
       "  <th>Skew:</th>          <td> 0.056</td> <th>  Prob(JB):          </th> <td>    0.00</td>\n",
       "</tr>\n",
       "<tr>\n",
       "  <th>Kurtosis:</th>      <td>15.768</td> <th>  Cond. No.          </th> <td>3.78e+05</td>\n",
       "</tr>\n",
       "</table><br/><br/>Warnings:<br/>[1] Standard Errors assume that the covariance matrix of the errors is correctly specified.<br/>[2] The condition number is large, 3.78e+05. This might indicate that there are<br/>strong multicollinearity or other numerical problems."
      ],
      "text/plain": [
       "<class 'statsmodels.iolib.summary.Summary'>\n",
       "\"\"\"\n",
       "                            OLS Regression Results                            \n",
       "==============================================================================\n",
       "Dep. Variable:       Net_Sales_Amount   R-squared:                       0.935\n",
       "Model:                            OLS   Adj. R-squared:                  0.934\n",
       "Method:                 Least Squares   F-statistic:                     1442.\n",
       "Date:                Mon, 20 Jul 2020   Prob (F-statistic):          3.23e-237\n",
       "Time:                        08:49:57   Log-Likelihood:                -5246.7\n",
       "No. Observations:                 408   AIC:                         1.050e+04\n",
       "Df Residuals:                     403   BIC:                         1.052e+04\n",
       "Df Model:                           4                                         \n",
       "Covariance Type:            nonrobust                                         \n",
       "======================================================================================\n",
       "                         coef    std err          t      P>|t|      [0.025      0.975]\n",
       "--------------------------------------------------------------------------------------\n",
       "const              -7502.7208   8558.792     -0.877      0.381   -2.43e+04    9322.734\n",
       "Commission_Rate    -4.693e+05   3.01e+05     -1.559      0.120   -1.06e+06    1.23e+05\n",
       "Current_Commission    34.1814      2.490     13.729      0.000      29.287      39.076\n",
       "Close Rate          1.765e+05    3.6e+04      4.909      0.000    1.06e+05    2.47e+05\n",
       "Net Sales            218.6314     18.623     11.740      0.000     182.021     255.242\n",
       "==============================================================================\n",
       "Omnibus:                       95.533   Durbin-Watson:                   2.092\n",
       "Prob(Omnibus):                  0.000   Jarque-Bera (JB):             2771.741\n",
       "Skew:                           0.056   Prob(JB):                         0.00\n",
       "Kurtosis:                      15.768   Cond. No.                     3.78e+05\n",
       "==============================================================================\n",
       "\n",
       "Warnings:\n",
       "[1] Standard Errors assume that the covariance matrix of the errors is correctly specified.\n",
       "[2] The condition number is large, 3.78e+05. This might indicate that there are\n",
       "strong multicollinearity or other numerical problems.\n",
       "\"\"\""
      ]
     },
     "execution_count": 16,
     "metadata": {},
     "output_type": "execute_result"
    }
   ],
   "source": [
    "X2 = df[['Commission_Rate','Current_Commission','Close Rate','Net Sales']]\n",
    "X2_train, X2_test, y2_train, y2_test = train_test_split(X2, Y, test_size = 0.2, random_state = 465)\n",
    "\n",
    "X2_train = sm.add_constant(X2_train)\n",
    "\n",
    "results2 = sm.OLS(y2_train, X2_train).fit()\n",
    "results2.summary()"
   ]
  },
  {
   "cell_type": "code",
   "execution_count": 17,
   "metadata": {},
   "outputs": [
    {
     "data": {
      "text/html": [
       "<table class=\"simpletable\">\n",
       "<caption>OLS Regression Results</caption>\n",
       "<tr>\n",
       "  <th>Dep. Variable:</th>    <td>Net_Sales_Amount</td> <th>  R-squared:         </th> <td>   0.937</td> \n",
       "</tr>\n",
       "<tr>\n",
       "  <th>Model:</th>                   <td>OLS</td>       <th>  Adj. R-squared:    </th> <td>   0.936</td> \n",
       "</tr>\n",
       "<tr>\n",
       "  <th>Method:</th>             <td>Least Squares</td>  <th>  F-statistic:       </th> <td>   1987.</td> \n",
       "</tr>\n",
       "<tr>\n",
       "  <th>Date:</th>             <td>Mon, 20 Jul 2020</td> <th>  Prob (F-statistic):</th> <td>2.11e-241</td>\n",
       "</tr>\n",
       "<tr>\n",
       "  <th>Time:</th>                 <td>08:50:17</td>     <th>  Log-Likelihood:    </th> <td> -5235.3</td> \n",
       "</tr>\n",
       "<tr>\n",
       "  <th>No. Observations:</th>      <td>   408</td>      <th>  AIC:               </th> <td>1.048e+04</td>\n",
       "</tr>\n",
       "<tr>\n",
       "  <th>Df Residuals:</th>          <td>   404</td>      <th>  BIC:               </th> <td>1.049e+04</td>\n",
       "</tr>\n",
       "<tr>\n",
       "  <th>Df Model:</th>              <td>     3</td>      <th>                     </th>     <td> </td>    \n",
       "</tr>\n",
       "<tr>\n",
       "  <th>Covariance Type:</th>      <td>nonrobust</td>    <th>                     </th>     <td> </td>    \n",
       "</tr>\n",
       "</table>\n",
       "<table class=\"simpletable\">\n",
       "<tr>\n",
       "           <td></td>             <th>coef</th>     <th>std err</th>      <th>t</th>      <th>P>|t|</th>  <th>[0.025</th>    <th>0.975]</th>  \n",
       "</tr>\n",
       "<tr>\n",
       "  <th>const</th>              <td>-1.155e+04</td> <td> 6665.219</td> <td>   -1.732</td> <td> 0.084</td> <td>-2.46e+04</td> <td> 1557.123</td>\n",
       "</tr>\n",
       "<tr>\n",
       "  <th>Current_Commission</th> <td>   34.9299</td> <td>    2.355</td> <td>   14.832</td> <td> 0.000</td> <td>   30.300</td> <td>   39.559</td>\n",
       "</tr>\n",
       "<tr>\n",
       "  <th>Close Rate</th>         <td> 1.774e+05</td> <td> 3.63e+04</td> <td>    4.892</td> <td> 0.000</td> <td> 1.06e+05</td> <td> 2.49e+05</td>\n",
       "</tr>\n",
       "<tr>\n",
       "  <th>Net Sales</th>          <td>  207.0667</td> <td>   17.402</td> <td>   11.899</td> <td> 0.000</td> <td>  172.856</td> <td>  241.277</td>\n",
       "</tr>\n",
       "</table>\n",
       "<table class=\"simpletable\">\n",
       "<tr>\n",
       "  <th>Omnibus:</th>       <td>103.284</td> <th>  Durbin-Watson:     </th> <td>   1.915</td>\n",
       "</tr>\n",
       "<tr>\n",
       "  <th>Prob(Omnibus):</th> <td> 0.000</td>  <th>  Jarque-Bera (JB):  </th> <td>3120.508</td>\n",
       "</tr>\n",
       "<tr>\n",
       "  <th>Skew:</th>          <td> 0.274</td>  <th>  Prob(JB):          </th> <td>    0.00</td>\n",
       "</tr>\n",
       "<tr>\n",
       "  <th>Kurtosis:</th>      <td>16.537</td>  <th>  Cond. No.          </th> <td>4.65e+04</td>\n",
       "</tr>\n",
       "</table><br/><br/>Warnings:<br/>[1] Standard Errors assume that the covariance matrix of the errors is correctly specified.<br/>[2] The condition number is large, 4.65e+04. This might indicate that there are<br/>strong multicollinearity or other numerical problems."
      ],
      "text/plain": [
       "<class 'statsmodels.iolib.summary.Summary'>\n",
       "\"\"\"\n",
       "                            OLS Regression Results                            \n",
       "==============================================================================\n",
       "Dep. Variable:       Net_Sales_Amount   R-squared:                       0.937\n",
       "Model:                            OLS   Adj. R-squared:                  0.936\n",
       "Method:                 Least Squares   F-statistic:                     1987.\n",
       "Date:                Mon, 20 Jul 2020   Prob (F-statistic):          2.11e-241\n",
       "Time:                        08:50:17   Log-Likelihood:                -5235.3\n",
       "No. Observations:                 408   AIC:                         1.048e+04\n",
       "Df Residuals:                     404   BIC:                         1.049e+04\n",
       "Df Model:                           3                                         \n",
       "Covariance Type:            nonrobust                                         \n",
       "======================================================================================\n",
       "                         coef    std err          t      P>|t|      [0.025      0.975]\n",
       "--------------------------------------------------------------------------------------\n",
       "const              -1.155e+04   6665.219     -1.732      0.084   -2.46e+04    1557.123\n",
       "Current_Commission    34.9299      2.355     14.832      0.000      30.300      39.559\n",
       "Close Rate          1.774e+05   3.63e+04      4.892      0.000    1.06e+05    2.49e+05\n",
       "Net Sales            207.0667     17.402     11.899      0.000     172.856     241.277\n",
       "==============================================================================\n",
       "Omnibus:                      103.284   Durbin-Watson:                   1.915\n",
       "Prob(Omnibus):                  0.000   Jarque-Bera (JB):             3120.508\n",
       "Skew:                           0.274   Prob(JB):                         0.00\n",
       "Kurtosis:                      16.537   Cond. No.                     4.65e+04\n",
       "==============================================================================\n",
       "\n",
       "Warnings:\n",
       "[1] Standard Errors assume that the covariance matrix of the errors is correctly specified.\n",
       "[2] The condition number is large, 4.65e+04. This might indicate that there are\n",
       "strong multicollinearity or other numerical problems.\n",
       "\"\"\""
      ]
     },
     "execution_count": 17,
     "metadata": {},
     "output_type": "execute_result"
    }
   ],
   "source": [
    "X3 = df[['Current_Commission','Close Rate','Net Sales']]\n",
    "X3_train, X3_test, y3_train, y3_test = train_test_split(X3, Y, test_size = 0.2, random_state = 45)\n",
    "\n",
    "X3_train = sm.add_constant(X3_train)\n",
    "\n",
    "results3 = sm.OLS(y3_train, X3_train).fit()\n",
    "results3.summary()"
   ]
  },
  {
   "cell_type": "code",
   "execution_count": 18,
   "metadata": {},
   "outputs": [
    {
     "data": {
      "image/png": "[encoded data removed]",
      "text/plain": [
       "<Figure size 450x300 with 1 Axes>"
      ]
     },
     "metadata": {
      "needs_background": "light"
     },
     "output_type": "display_data"
    }
   ],
   "source": [
    "X2_test = sm.add_constant(X2_test)\n",
    "y2_preds = results2.predict(X2_test)\n",
    "\n",
    "\n",
    "font = {'family': 'serif',\n",
    "        'color':  'darkred',\n",
    "        'weight': 'normal',\n",
    "        'size': 16,\n",
    "        }\n",
    "plt.figure(dpi = 75)\n",
    "plt.scatter(y2_test, y2_preds)\n",
    "plt.plot(y2_test, y2_test, color=\"red\")\n",
    "plt.xlabel(\"Actual Scores\", fontdict=font)\n",
    "plt.ylabel(\"Estimated Scores\", fontdict=font)\n",
    "plt.title(\"Model: Actual vs Estimated Scores\", fontdict=font)\n",
    "plt.show()"
   ]
  },
  {
   "cell_type": "code",
   "execution_count": 21,
   "metadata": {},
   "outputs": [],
   "source": [
    "secondApproach = dz.rename(columns={'Close Rate':'Close_Rate', 'Net Sales':'Net_Sales'})\n",
    "result = smf.ols('Net_Sales_Amount ~ Current_Commission+Close_Rate+Net_Sales', secondApproach).fit()\n",
    "secondApproach['yhat'] = result.fittedvalues\n",
    "secondApproach['resid'] = result.resid\n",
    "\n",
    "\n",
    "result2 = sm.OLS(secondApproach['Net_Sales_Amount'], sm.add_constant(secondApproach[['Current_Commission',\n",
    "                                                                                     'Close_Rate','Net_Sales']])).fit()\n",
    "secondApproach['yhat2'] = result2.fittedvalues\n",
    "secondApproach['resid2'] = result2.resid\n",
    "\n",
    "secondApproach['predicted'] = result.predict(secondApproach)\n",
    "secondApproach.to_excel('WH_predictedAmount4.xlsx', index=False)\n",
    "secondApproach = secondApproach.drop(['yhat', 'resid', 'yhat2', 'resid2'], axis = 1) "
   ]
  },
  {
   "cell_type": "code",
   "execution_count": 29,
   "metadata": {},
   "outputs": [
    {
     "data": {
      "text/html": [
       "<div>\n",
       "<style scoped>\n",
       "    .dataframe tbody tr th:only-of-type {\n",
       "        vertical-align: middle;\n",
       "    }\n",
       "\n",
       "    .dataframe tbody tr th {\n",
       "        vertical-align: top;\n",
       "    }\n",
       "\n",
       "    .dataframe thead th {\n",
       "        text-align: right;\n",
       "    }\n",
       "</style>\n",
       "<table border=\"1\" class=\"dataframe\">\n",
       "  <thead>\n",
       "    <tr style=\"text-align: right;\">\n",
       "      <th></th>\n",
       "      <th>ID</th>\n",
       "      <th>Market</th>\n",
       "      <th>Gate</th>\n",
       "      <th>Handle Time</th>\n",
       "      <th>Current_Commission</th>\n",
       "      <th>Current Comm Per Hour</th>\n",
       "      <th>Commission_Rate</th>\n",
       "      <th>Close_Rate</th>\n",
       "      <th>Net_Sales</th>\n",
       "      <th>Net_Sales_Amount</th>\n",
       "      <th>predicted</th>\n",
       "    </tr>\n",
       "  </thead>\n",
       "  <tbody>\n",
       "    <tr>\n",
       "      <td>0</td>\n",
       "      <td>1022033040</td>\n",
       "      <td>West Hills (English) Outbound</td>\n",
       "      <td>G001</td>\n",
       "      <td>154.21</td>\n",
       "      <td>194.42</td>\n",
       "      <td>1.02</td>\n",
       "      <td>0.00</td>\n",
       "      <td>0.11</td>\n",
       "      <td>358.05</td>\n",
       "      <td>69104.24</td>\n",
       "      <td>84888.59</td>\n",
       "    </tr>\n",
       "  </tbody>\n",
       "</table>\n",
       "</div>"
      ],
      "text/plain": [
       "           ID                         Market  Gate  Handle Time  \\\n",
       "0  1022033040  West Hills (English) Outbound  G001       154.21   \n",
       "\n",
       "   Current_Commission  Current Comm Per Hour  Commission_Rate  Close_Rate  \\\n",
       "0              194.42                   1.02             0.00        0.11   \n",
       "\n",
       "   Net_Sales  Net_Sales_Amount  predicted  \n",
       "0     358.05          69104.24   84888.59  "
      ]
     },
     "execution_count": 29,
     "metadata": {},
     "output_type": "execute_result"
    }
   ],
   "source": [
    "secondApproach.head(1)"
   ]
  },
  {
   "cell_type": "code",
   "execution_count": 23,
   "metadata": {},
   "outputs": [
    {
     "data": {
      "text/plain": [
       "0.94"
      ]
     },
     "execution_count": 23,
     "metadata": {},
     "output_type": "execute_result"
    }
   ],
   "source": [
    "round(result2.rsquared,2)"
   ]
  },
  {
   "cell_type": "code",
   "execution_count": 24,
   "metadata": {},
   "outputs": [],
   "source": [
    "from sklearn.metrics import mean_squared_error\n",
    "from sklearn.metrics import explained_variance_score,r2_score\n",
    "#Linear Regression\n",
    "df = dz[['Handle Time','Current_Commission','Close Rate','Commission_Rate','Net Sales','Net_Sales_Amount']]\n",
    "\n",
    "y=df[\"Net_Sales_Amount\"]\n",
    "x=df[['Current_Commission','Close Rate','Net Sales']]\n",
    "\n",
    "# define the multiple Linear regression model\n",
    "linear_regress = LinearRegression()\n",
    "\n",
    "# Fit the multiple Linear regression model\n",
    "linear_regress.fit(x,y)\n",
    "\n",
    "# predict with the data\n",
    "y_pred = linear_regress.predict(x)\n",
    "\n",
    "y_pred = pd.DataFrame(y_pred)"
   ]
  },
  {
   "cell_type": "code",
   "execution_count": 25,
   "metadata": {},
   "outputs": [
    {
     "name": "stdout",
     "output_type": "stream",
     "text": [
      "0.9401110781434457\n"
     ]
    }
   ],
   "source": [
    "accuracy_lr = linear_regress.score(x, y)\n",
    "print(accuracy_lr)"
   ]
  },
  {
   "cell_type": "markdown",
   "metadata": {},
   "source": [
    "# Building Model - Monte Carlo simulation model"
   ]
  },
  {
   "cell_type": "code",
   "execution_count": 26,
   "metadata": {},
   "outputs": [
    {
     "data": {
      "text/html": [
       "<div>\n",
       "<style scoped>\n",
       "    .dataframe tbody tr th:only-of-type {\n",
       "        vertical-align: middle;\n",
       "    }\n",
       "\n",
       "    .dataframe tbody tr th {\n",
       "        vertical-align: top;\n",
       "    }\n",
       "\n",
       "    .dataframe thead th {\n",
       "        text-align: right;\n",
       "    }\n",
       "</style>\n",
       "<table border=\"1\" class=\"dataframe\">\n",
       "  <thead>\n",
       "    <tr style=\"text-align: right;\">\n",
       "      <th></th>\n",
       "      <th>ID</th>\n",
       "      <th>Handle_Time</th>\n",
       "      <th>Current_Commission_Amt</th>\n",
       "      <th>Current_CommAmt_Per_Hour</th>\n",
       "      <th>Commission_Rate</th>\n",
       "      <th>Close_Rate</th>\n",
       "      <th>Net_Sales_Unit</th>\n",
       "      <th>Current_Net_Sales_Amount</th>\n",
       "      <th>Net_Sales_Target_Amt</th>\n",
       "      <th>Percent_To_Plan</th>\n",
       "      <th>Target %</th>\n",
       "    </tr>\n",
       "  </thead>\n",
       "  <tbody>\n",
       "    <tr>\n",
       "      <td>0</td>\n",
       "      <td>1022033040</td>\n",
       "      <td>154.21</td>\n",
       "      <td>194.42</td>\n",
       "      <td>1.02</td>\n",
       "      <td>0.00</td>\n",
       "      <td>0.11</td>\n",
       "      <td>358.05</td>\n",
       "      <td>69104.24</td>\n",
       "      <td>84888.59</td>\n",
       "      <td>0.81</td>\n",
       "      <td>81.41</td>\n",
       "    </tr>\n",
       "    <tr>\n",
       "      <td>3</td>\n",
       "      <td>1022033040</td>\n",
       "      <td>81.56</td>\n",
       "      <td>63.03</td>\n",
       "      <td>0.29</td>\n",
       "      <td>0.00</td>\n",
       "      <td>0.10</td>\n",
       "      <td>284.97</td>\n",
       "      <td>124975.66</td>\n",
       "      <td>64103.26</td>\n",
       "      <td>1.95</td>\n",
       "      <td>194.96</td>\n",
       "    </tr>\n",
       "    <tr>\n",
       "      <td>4</td>\n",
       "      <td>1024436900</td>\n",
       "      <td>418.94</td>\n",
       "      <td>2413.50</td>\n",
       "      <td>6.47</td>\n",
       "      <td>0.01</td>\n",
       "      <td>0.12</td>\n",
       "      <td>543.97</td>\n",
       "      <td>222887.08</td>\n",
       "      <td>203426.14</td>\n",
       "      <td>1.10</td>\n",
       "      <td>109.57</td>\n",
       "    </tr>\n",
       "  </tbody>\n",
       "</table>\n",
       "</div>"
      ],
      "text/plain": [
       "           ID  Handle_Time  Current_Commission_Amt  Current_CommAmt_Per_Hour  \\\n",
       "0  1022033040       154.21                  194.42                      1.02   \n",
       "3  1022033040        81.56                   63.03                      0.29   \n",
       "4  1024436900       418.94                 2413.50                      6.47   \n",
       "\n",
       "   Commission_Rate  Close_Rate  Net_Sales_Unit  Current_Net_Sales_Amount  \\\n",
       "0             0.00        0.11          358.05                  69104.24   \n",
       "3             0.00        0.10          284.97                 124975.66   \n",
       "4             0.01        0.12          543.97                 222887.08   \n",
       "\n",
       "   Net_Sales_Target_Amt  Percent_To_Plan  Target %  \n",
       "0              84888.59             0.81     81.41  \n",
       "3              64103.26             1.95    194.96  \n",
       "4             203426.14             1.10    109.57  "
      ]
     },
     "execution_count": 26,
     "metadata": {},
     "output_type": "execute_result"
    }
   ],
   "source": [
    "# Prepare data for the simulation analysis\n",
    "data = secondApproach[['ID','Handle Time','Current_Commission','Current Comm Per Hour',\n",
    "                       'Commission_Rate','Close_Rate','Net_Sales','Net_Sales_Amount','predicted']]\n",
    "data.columns = ['ID','Handle_Time','Current_Commission_Amt','Current_CommAmt_Per_Hour','Commission_Rate',\n",
    "                'Close_Rate','Net_Sales_Unit','Current_Net_Sales_Amount','Net_Sales_Target_Amt']\n",
    "data = data.query(\"~(Net_Sales_Target_Amt < 0)\")\n",
    "data['Percent_To_Plan'] = data['Current_Net_Sales_Amount']/data['Net_Sales_Target_Amt']\n",
    "data['Target %'] = round(data['Percent_To_Plan']*100,2)\n",
    "data.head(3)"
   ]
  },
  {
   "cell_type": "code",
   "execution_count": 24,
   "metadata": {},
   "outputs": [
    {
     "data": {
      "text/plain": [
       "<matplotlib.axes._subplots.AxesSubplot at 0x125e0c48>"
      ]
     },
     "execution_count": 24,
     "metadata": {},
     "output_type": "execute_result"
    },
    {
     "data": {
      "image/png": "[encoded data removed]",
      "text/plain": [
       "<Figure size 432x288 with 1 Axes>"
      ]
     },
     "metadata": {
      "needs_background": "light"
     },
     "output_type": "display_data"
    }
   ],
   "source": [
    "data['Percent_To_Plan'].plot(kind='hist', title='% to Plan/Target Distribution')"
   ]
  },
  {
   "cell_type": "code",
   "execution_count": 64,
   "metadata": {},
   "outputs": [
    {
     "data": {
      "text/plain": [
       "count   435.00\n",
       "mean      0.96\n",
       "std       1.52\n",
       "min       0.00\n",
       "0%        0.00\n",
       "5%        0.11\n",
       "25%       0.58\n",
       "50%       0.82\n",
       "75%       1.09\n",
       "100%     25.55\n",
       "max      25.55\n",
       "Name: Percent_To_Plan, dtype: float64"
      ]
     },
     "execution_count": 64,
     "metadata": {},
     "output_type": "execute_result"
    }
   ],
   "source": [
    "data['Percent_To_Plan'].describe(percentiles=[0.00, 0.05,.25, .5, .75, 1.00])"
   ]
  },
  {
   "cell_type": "code",
   "execution_count": 26,
   "metadata": {},
   "outputs": [
    {
     "data": {
      "text/plain": [
       "count   435.00\n",
       "mean      0.01\n",
       "std       0.01\n",
       "min       0.00\n",
       "0%        0.00\n",
       "5%        0.00\n",
       "25%       0.00\n",
       "50%       0.01\n",
       "75%       0.01\n",
       "100%      0.06\n",
       "max       0.06\n",
       "Name: Commission_Rate, dtype: float64"
      ]
     },
     "execution_count": 26,
     "metadata": {},
     "output_type": "execute_result"
    }
   ],
   "source": [
    "data['Commission_Rate'].describe(percentiles=[0.00, 0.05,.25, .5, .75, 1.00])"
   ]
  },
  {
   "cell_type": "code",
   "execution_count": 27,
   "metadata": {},
   "outputs": [
    {
     "data": {
      "text/plain": [
       "(435, 11)"
      ]
     },
     "execution_count": 27,
     "metadata": {},
     "output_type": "execute_result"
    }
   ],
   "source": [
    "data.shape"
   ]
  },
  {
   "cell_type": "code",
   "execution_count": 28,
   "metadata": {},
   "outputs": [],
   "source": [
    "# Define the variables for the Percent to target based on calculated mean = 0.95\n",
    "avg = 1\n",
    "std_dev = .1\n",
    "num_reps = 482\n",
    "num_simulations = 1000"
   ]
  },
  {
   "cell_type": "code",
   "execution_count": 29,
   "metadata": {},
   "outputs": [],
   "source": [
    "# Example of calculating the percent to target\n",
    "pct_to_target = np.random.normal(avg, std_dev, num_reps).round(2)"
   ]
  },
  {
   "cell_type": "code",
   "execution_count": 30,
   "metadata": {},
   "outputs": [
    {
     "data": {
      "text/plain": [
       "array([0.99, 0.92, 0.91, 1.07, 1.03, 0.93, 1.12, 0.99, 1.01, 0.84])"
      ]
     },
     "execution_count": 30,
     "metadata": {},
     "output_type": "execute_result"
    }
   ],
   "source": [
    "pct_to_target[0:10]"
   ]
  },
  {
   "cell_type": "code",
   "execution_count": 31,
   "metadata": {},
   "outputs": [
    {
     "data": {
      "text/plain": [
       "<matplotlib.axes._subplots.AxesSubplot at 0x127a75c8>"
      ]
     },
     "execution_count": 31,
     "metadata": {},
     "output_type": "execute_result"
    },
    {
     "data": {
      "image/png": "[encoded data removed]",
      "text/plain": [
       "<Figure size 432x288 with 1 Axes>"
      ]
     },
     "metadata": {
      "needs_background": "light"
     },
     "output_type": "display_data"
    }
   ],
   "source": [
    "# sales target distribution\n",
    "data['Net_Sales_Target_Amt'].plot(kind='hist', title='Predicted Sales Target Distribution')"
   ]
  },
  {
   "cell_type": "code",
   "execution_count": 33,
   "metadata": {},
   "outputs": [
    {
     "data": {
      "text/plain": [
       "count       435.00\n",
       "mean     203021.31\n",
       "std      375621.13\n",
       "min         258.66\n",
       "0%          258.66\n",
       "5%         2523.75\n",
       "25%       23548.50\n",
       "50%       69519.24\n",
       "75%      154492.96\n",
       "100%    2078310.26\n",
       "max     2078310.26\n",
       "Name: Net_Sales_Target_Amt, dtype: float64"
      ]
     },
     "execution_count": 33,
     "metadata": {},
     "output_type": "execute_result"
    }
   ],
   "source": [
    "data['Net_Sales_Target_Amt'].describe(percentiles=[0.00, 0.05,.25, .5, .75, 1.00])"
   ]
  },
  {
   "cell_type": "code",
   "execution_count": 55,
   "metadata": {},
   "outputs": [],
   "source": [
    "sales_target_values = [258.66, 10_000, 40_000, 300_000, 400_000, 6000_000]\n",
    "sales_target_prob = [.3, .3, .2, .1, .05, .05]\n",
    "new_sales_target = np.random.choice(sales_target_values, num_reps, p=sales_target_prob)"
   ]
  },
  {
   "cell_type": "code",
   "execution_count": 32,
   "metadata": {},
   "outputs": [],
   "source": [
    "#sales_target_values = [5.17, 20_000, 40_000, 60_000, 80_000, 100_000, 20_000]\n",
    "#sales_target_prob = [.3, .2, .2, .1, .1, .05, .05]\n",
    "#new_sales_target = np.random.choice(sales_target_values, num_reps, p=sales_target_prob)"
   ]
  },
  {
   "cell_type": "code",
   "execution_count": 35,
   "metadata": {},
   "outputs": [
    {
     "name": "stdout",
     "output_type": "stream",
     "text": [
      "[ 1000.    2000.     258.66 70000.    1000.  ]\n"
     ]
    }
   ],
   "source": [
    "np.set_printoptions(suppress=True)\n",
    "print(new_sales_target[0:5])"
   ]
  },
  {
   "cell_type": "code",
   "execution_count": 56,
   "metadata": {},
   "outputs": [
    {
     "data": {
      "text/html": [
       "<div>\n",
       "<style scoped>\n",
       "    .dataframe tbody tr th:only-of-type {\n",
       "        vertical-align: middle;\n",
       "    }\n",
       "\n",
       "    .dataframe tbody tr th {\n",
       "        vertical-align: top;\n",
       "    }\n",
       "\n",
       "    .dataframe thead th {\n",
       "        text-align: right;\n",
       "    }\n",
       "</style>\n",
       "<table border=\"1\" class=\"dataframe\">\n",
       "  <thead>\n",
       "    <tr style=\"text-align: right;\">\n",
       "      <th></th>\n",
       "      <th>Pct_To_Target</th>\n",
       "      <th>new_sales_target</th>\n",
       "    </tr>\n",
       "  </thead>\n",
       "  <tbody>\n",
       "    <tr>\n",
       "      <td>0</td>\n",
       "      <td>1.17</td>\n",
       "      <td>40000.00</td>\n",
       "    </tr>\n",
       "    <tr>\n",
       "      <td>1</td>\n",
       "      <td>1.02</td>\n",
       "      <td>40000.00</td>\n",
       "    </tr>\n",
       "    <tr>\n",
       "      <td>2</td>\n",
       "      <td>1.02</td>\n",
       "      <td>258.66</td>\n",
       "    </tr>\n",
       "  </tbody>\n",
       "</table>\n",
       "</div>"
      ],
      "text/plain": [
       "   Pct_To_Target  new_sales_target\n",
       "0           1.17          40000.00\n",
       "1           1.02          40000.00\n",
       "2           1.02            258.66"
      ]
     },
     "execution_count": 56,
     "metadata": {},
     "output_type": "execute_result"
    }
   ],
   "source": [
    "# Create dataframe for the new Sales Target (It can Yearly or Quarterly or Monthly).\n",
    "df = pd.DataFrame(index=range(num_reps), data={'Pct_To_Target': pct_to_target,\n",
    "                                               'new_sales_target': new_sales_target})\n",
    "df.head(3)"
   ]
  },
  {
   "cell_type": "code",
   "execution_count": 37,
   "metadata": {},
   "outputs": [
    {
     "data": {
      "text/plain": [
       "<matplotlib.axes._subplots.AxesSubplot at 0x12a84208>"
      ]
     },
     "execution_count": 37,
     "metadata": {},
     "output_type": "execute_result"
    },
    {
     "data": {
      "image/png": "[encoded data removed]",
      "text/plain": [
       "<Figure size 432x288 with 1 Axes>"
      ]
     },
     "metadata": {
      "needs_background": "light"
     },
     "output_type": "display_data"
    }
   ],
   "source": [
    "# Simple histogram to confirm distribution looks as expected\n",
    "df['Pct_To_Target'].plot(kind='hist', title='Historical % to Target Distribution')"
   ]
  },
  {
   "cell_type": "code",
   "execution_count": 66,
   "metadata": {},
   "outputs": [
    {
     "data": {
      "text/plain": [
       "Commission_Rate  Percent_To_Plan\n",
       "0.05             0.64               1\n",
       "                 1.42               1\n",
       "                 5.48               1\n",
       "                 25.55              1\n",
       "0.06             0.89               1\n",
       "dtype: int64"
      ]
     },
     "execution_count": 66,
     "metadata": {},
     "output_type": "execute_result"
    }
   ],
   "source": [
    "commRate_and_plan = data.pivot_table(index=['Commission_Rate','Percent_To_Plan'], aggfunc='size')\n",
    "commRate_and_plan.tail()"
   ]
  },
  {
   "cell_type": "code",
   "execution_count": 39,
   "metadata": {},
   "outputs": [
    {
     "data": {
      "text/html": [
       "<div>\n",
       "<style scoped>\n",
       "    .dataframe tbody tr th:only-of-type {\n",
       "        vertical-align: middle;\n",
       "    }\n",
       "\n",
       "    .dataframe tbody tr th {\n",
       "        vertical-align: top;\n",
       "    }\n",
       "\n",
       "    .dataframe thead th {\n",
       "        text-align: right;\n",
       "    }\n",
       "</style>\n",
       "<table border=\"1\" class=\"dataframe\">\n",
       "  <thead>\n",
       "    <tr style=\"text-align: right;\">\n",
       "      <th></th>\n",
       "      <th>ID</th>\n",
       "      <th>Handle_Time</th>\n",
       "      <th>Current_Commission_Amt</th>\n",
       "      <th>Current_CommAmt_Per_Hour</th>\n",
       "      <th>Commission_Rate</th>\n",
       "      <th>Close_Rate</th>\n",
       "      <th>Net_Sales_Unit</th>\n",
       "      <th>Current_Net_Sales_Amount</th>\n",
       "      <th>Net_Sales_Target_Amt</th>\n",
       "      <th>Percent_To_Plan</th>\n",
       "      <th>Target %</th>\n",
       "    </tr>\n",
       "  </thead>\n",
       "  <tbody>\n",
       "    <tr>\n",
       "      <td>35</td>\n",
       "      <td>1024583110</td>\n",
       "      <td>74.21</td>\n",
       "      <td>984.69</td>\n",
       "      <td>8.77</td>\n",
       "      <td>0.06</td>\n",
       "      <td>0.04</td>\n",
       "      <td>67.05</td>\n",
       "      <td>17130.35</td>\n",
       "      <td>19283.27</td>\n",
       "      <td>0.89</td>\n",
       "      <td>88.84</td>\n",
       "    </tr>\n",
       "  </tbody>\n",
       "</table>\n",
       "</div>"
      ],
      "text/plain": [
       "            ID  Handle_Time  Current_Commission_Amt  Current_CommAmt_Per_Hour  \\\n",
       "35  1024583110        74.21                  984.69                      8.77   \n",
       "\n",
       "    Commission_Rate  Close_Rate  Net_Sales_Unit  Current_Net_Sales_Amount  \\\n",
       "35             0.06        0.04           67.05                  17130.35   \n",
       "\n",
       "    Net_Sales_Target_Amt  Percent_To_Plan  Target %  \n",
       "35              19283.27             0.89     88.84  "
      ]
     },
     "execution_count": 39,
     "metadata": {},
     "output_type": "execute_result"
    }
   ],
   "source": [
    "data[data['Commission_Rate'] == data['Commission_Rate'].max()]"
   ]
  },
  {
   "cell_type": "markdown",
   "metadata": {},
   "source": [
    "**Monte Carlo simulation - First Approach**"
   ]
  },
  {
   "cell_type": "code",
   "execution_count": 68,
   "metadata": {},
   "outputs": [
    {
     "name": "stdout",
     "output_type": "stream",
     "text": [
      "87177029.88 0.009356321839080403 0.024896551724137735 166682591.16000003\n"
     ]
    }
   ],
   "source": [
    "def calc_commission_rate(x):\n",
    "    \"\"\" Return the commission rate based on the data:\n",
    "    0-90% = 2%\n",
    "    91-99% = 3%\n",
    "    >= 100 = 4%\n",
    "    \"\"\"\n",
    "    \n",
    "    if x <= 1.0:\n",
    "        return .02\n",
    "    if x <= 1.5:\n",
    "        return .03\n",
    "    if x <= 2.0:\n",
    "        return .04\n",
    "    else:\n",
    "        return .06\n",
    "    \n",
    "df['New_Commission_Rate'] = df['Pct_To_Target'].apply(calc_commission_rate)\n",
    "\n",
    "dz = df.copy()\n",
    "dz.insert(0, 'Unique_ID', range(10, 10 + len(dz)))\n",
    "\n",
    "df_dat = data[['ID','Handle_Time','Current_Commission_Amt','Current_CommAmt_Per_Hour','Commission_Rate',\n",
    "                'Close_Rate','Current_Net_Sales_Amount']]\n",
    "df_dat.insert(0, 'Unique_ID', range(10, 10 + len(df_dat)))\n",
    "merge = (pd.merge(df_dat, dz, on=['Unique_ID'], copy = False))\n",
    "\n",
    "# Calculate the proposed commissions  amount\n",
    "merge['New_Commission_Amount'] = merge['New_Commission_Rate'] * merge['Current_Net_Sales_Amount']\n",
    "\n",
    "print(merge['Current_Net_Sales_Amount'].sum(), merge['Commission_Rate'].mean(), \n",
    "      merge['New_Commission_Rate'].mean(), merge['new_sales_target'].sum())"
   ]
  },
  {
   "cell_type": "markdown",
   "metadata": {},
   "source": [
    "**Use Closed Rate values to get new commission rate - Second Approach**"
   ]
  },
  {
   "cell_type": "code",
   "execution_count": 41,
   "metadata": {},
   "outputs": [
    {
     "data": {
      "text/html": [
       "<div>\n",
       "<style scoped>\n",
       "    .dataframe tbody tr th:only-of-type {\n",
       "        vertical-align: middle;\n",
       "    }\n",
       "\n",
       "    .dataframe tbody tr th {\n",
       "        vertical-align: top;\n",
       "    }\n",
       "\n",
       "    .dataframe thead th {\n",
       "        text-align: right;\n",
       "    }\n",
       "</style>\n",
       "<table border=\"1\" class=\"dataframe\">\n",
       "  <thead>\n",
       "    <tr style=\"text-align: right;\">\n",
       "      <th></th>\n",
       "      <th>Commission_Rate</th>\n",
       "      <th>Close_Rate</th>\n",
       "    </tr>\n",
       "  </thead>\n",
       "  <tbody>\n",
       "    <tr>\n",
       "      <td>count</td>\n",
       "      <td>435.00</td>\n",
       "      <td>435.00</td>\n",
       "    </tr>\n",
       "    <tr>\n",
       "      <td>mean</td>\n",
       "      <td>0.01</td>\n",
       "      <td>0.19</td>\n",
       "    </tr>\n",
       "    <tr>\n",
       "      <td>std</td>\n",
       "      <td>0.01</td>\n",
       "      <td>0.16</td>\n",
       "    </tr>\n",
       "    <tr>\n",
       "      <td>min</td>\n",
       "      <td>0.00</td>\n",
       "      <td>0.01</td>\n",
       "    </tr>\n",
       "    <tr>\n",
       "      <td>25%</td>\n",
       "      <td>0.00</td>\n",
       "      <td>0.07</td>\n",
       "    </tr>\n",
       "    <tr>\n",
       "      <td>50%</td>\n",
       "      <td>0.01</td>\n",
       "      <td>0.12</td>\n",
       "    </tr>\n",
       "    <tr>\n",
       "      <td>75%</td>\n",
       "      <td>0.01</td>\n",
       "      <td>0.30</td>\n",
       "    </tr>\n",
       "    <tr>\n",
       "      <td>max</td>\n",
       "      <td>0.06</td>\n",
       "      <td>0.67</td>\n",
       "    </tr>\n",
       "  </tbody>\n",
       "</table>\n",
       "</div>"
      ],
      "text/plain": [
       "       Commission_Rate  Close_Rate\n",
       "count           435.00      435.00\n",
       "mean              0.01        0.19\n",
       "std               0.01        0.16\n",
       "min               0.00        0.01\n",
       "25%               0.00        0.07\n",
       "50%               0.01        0.12\n",
       "75%               0.01        0.30\n",
       "max               0.06        0.67"
      ]
     },
     "execution_count": 41,
     "metadata": {},
     "output_type": "execute_result"
    }
   ],
   "source": [
    "desc = data[['Commission_Rate','Close_Rate']]\n",
    "desc.describe()"
   ]
  },
  {
   "cell_type": "code",
   "execution_count": 69,
   "metadata": {},
   "outputs": [],
   "source": [
    "def calc_commission_rate(x):\n",
    "    \"\"\" Return the commission rate based on Closed Rate values:\n",
    "    0-20% = 2%\n",
    "    11-30% = 4%\n",
    "    >= 67 = 4%\n",
    "    \"\"\"\n",
    "    if x <= .20:\n",
    "        return .02\n",
    "    if x <= .30:\n",
    "        return .04\n",
    "    else:\n",
    "        return .06\n",
    "\n",
    "# Define a list to keep all the results from each simulation that we want to analyze\n",
    "all_stats = []\n",
    "\n",
    "# Loop through many simulations\n",
    "for i in range(num_simulations):\n",
    "    \n",
    "    # Choose random inputs for the sales targets and percent to target\n",
    "    new_sales_target = np.random.choice(sales_target_values, num_reps, p=sales_target_prob)\n",
    "    pct_to_target = np.random.normal(avg, std_dev, num_reps).round(2)\n",
    "    \n",
    "    # Build the dataframe based on the inputs and number of reps\n",
    "    df = pd.DataFrame(index=range(num_reps), data={'Pct_To_Target': pct_to_target,\n",
    "                                                   'new_sales_target': new_sales_target})\n",
    "    df.insert(0, 'New_ID', range(10, 10 + len(df)))\n",
    "\n",
    "    df_data = data[['ID','Handle_Time','Current_Commission_Amt','Current_CommAmt_Per_Hour','Commission_Rate',\n",
    "                'Close_Rate','Current_Net_Sales_Amount']]\n",
    "    df_data.insert(0, 'New_ID', range(10, 10 + len(df_data)))\n",
    "    df_merge = (pd.merge(df_data, df, on=['New_ID'], copy = False))\n",
    "   \n",
    "    \n",
    "    # Determine the commissions rate and calculate it\n",
    "    df_merge['New_Commission_Rate'] = df_merge['Pct_To_Target'].apply(calc_commission_rate)\n",
    "    df_merge['New_Commission_Amount'] = df_merge['New_Commission_Rate'] * df_merge['new_sales_target']\n",
    "    \n",
    "    # We want to track sales,commission amounts and sales targets over all the simulations\n",
    "    all_stats.append([df_merge['Current_Net_Sales_Amount'].sum().round(0), \n",
    "                      df_merge['Current_Commission_Amt'].sum().round(0),\n",
    "                      df_merge['New_Commission_Amount'].sum().round(0),\n",
    "                      df_merge['new_sales_target'].sum().round(0)])"
   ]
  },
  {
   "cell_type": "code",
   "execution_count": 70,
   "metadata": {},
   "outputs": [],
   "source": [
    "results_df = pd.DataFrame.from_records(all_stats, columns=['Current_Net_Sales_Amount','Current_Commission_Amt',\n",
    "                                                           'New_Commission_Amount','new_sales_target'])"
   ]
  },
  {
   "cell_type": "markdown",
   "metadata": {},
   "source": [
    "**Compare results**"
   ]
  },
  {
   "cell_type": "code",
   "execution_count": 71,
   "metadata": {},
   "outputs": [
    {
     "name": "stdout",
     "output_type": "stream",
     "text": [
      "87177030.0 0.01 0.02 166682591.0\n"
     ]
    }
   ],
   "source": [
    "#Standard simulation technique results - using Sales Target values\n",
    "\n",
    "print(merge['Current_Net_Sales_Amount'].sum().round(0), round(merge['Commission_Rate'].mean(),2), \n",
    "      round(merge['New_Commission_Rate'].mean(),2), merge['new_sales_target'].sum().round(0))"
   ]
  },
  {
   "cell_type": "code",
   "execution_count": 61,
   "metadata": {},
   "outputs": [
    {
     "name": "stdout",
     "output_type": "stream",
     "text": [
      "87177030.0 0.01 0.06 166682591.0\n"
     ]
    }
   ],
   "source": [
    "# Simulation results - Using Close Rate and Commission Rate\n",
    "\n",
    "print(df_merge['Current_Net_Sales_Amount'].sum().round(0), round(df_merge['Commission_Rate'].mean(),2), \n",
    "      round(df_merge['New_Commission_Rate'].mean(),2), df_merge['new_sales_target'].sum().round(0))"
   ]
  },
  {
   "cell_type": "code",
   "execution_count": 63,
   "metadata": {},
   "outputs": [],
   "source": [
    "#results_df.describe().round(0).style.format('{:,}')"
   ]
  }
 ],
 "metadata": {
  "kernelspec": {
   "display_name": "Python 3",
   "language": "python",
   "name": "python3"
  },
  "language_info": {
   "codemirror_mode": {
    "name": "ipython",
    "version": 3
   },
   "file_extension": ".py",
   "mimetype": "text/x-python",
   "name": "python",
   "nbconvert_exporter": "python",
   "pygments_lexer": "ipython3",
   "version": "3.7.4"
  }
 },
 "nbformat": 4,
 "nbformat_minor": 2
}
